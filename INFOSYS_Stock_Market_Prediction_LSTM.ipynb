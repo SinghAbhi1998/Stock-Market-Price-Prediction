{
  "nbformat": 4,
  "nbformat_minor": 0,
  "metadata": {
    "colab": {
      "name": "INFOSYS_Stock_Market_Prediction_LSTM.ipynb",
      "provenance": []
    },
    "kernelspec": {
      "name": "python3",
      "display_name": "Python 3"
    }
  },
  "cells": [
    {
      "cell_type": "markdown",
      "metadata": {
        "id": "kaScslrtfw9E",
        "colab_type": "text"
      },
      "source": [
        "## INFOSYS STOCK MARKET PRICE PREDICTION USING LSTM(Long short-term memory) \n",
        "##              FROM [01-07-2015 t0 01-07-2020(5 Years)]\n",
        "### DATASET FROM NSE INDIA(National Stock Exchange of India Ltd)"
      ]
    },
    {
      "cell_type": "code",
      "metadata": {
        "id": "3Q0k4Bds6XQX",
        "colab_type": "code",
        "colab": {}
      },
      "source": [
        "import pandas as pd\n",
        "import numpy as np\n",
        "import matplotlib.pyplot as plt\n",
        "from sklearn.preprocessing import MinMaxScaler\n",
        "from keras.models import Sequential\n",
        "from keras.layers import Dense, LSTM, Dropout\n"
      ],
      "execution_count": 2,
      "outputs": []
    },
    {
      "cell_type": "code",
      "metadata": {
        "id": "zQJTHnPP7Q2I",
        "colab_type": "code",
        "colab": {}
      },
      "source": [
        "INFOSYS = pd.read_csv(\"/content/INFY.NS.csv\")"
      ],
      "execution_count": 4,
      "outputs": []
    },
    {
      "cell_type": "code",
      "metadata": {
        "id": "1YYBryFZ7REZ",
        "colab_type": "code",
        "colab": {
          "base_uri": "https://localhost:8080/",
          "height": 343
        },
        "outputId": "7a7096d5-7a86-4461-cc91-7c56940e2608"
      },
      "source": [
        "INFOSYS.head(10)"
      ],
      "execution_count": 5,
      "outputs": [
        {
          "output_type": "execute_result",
          "data": {
            "text/html": [
              "<div>\n",
              "<style scoped>\n",
              "    .dataframe tbody tr th:only-of-type {\n",
              "        vertical-align: middle;\n",
              "    }\n",
              "\n",
              "    .dataframe tbody tr th {\n",
              "        vertical-align: top;\n",
              "    }\n",
              "\n",
              "    .dataframe thead th {\n",
              "        text-align: right;\n",
              "    }\n",
              "</style>\n",
              "<table border=\"1\" class=\"dataframe\">\n",
              "  <thead>\n",
              "    <tr style=\"text-align: right;\">\n",
              "      <th></th>\n",
              "      <th>Date</th>\n",
              "      <th>Open</th>\n",
              "      <th>High</th>\n",
              "      <th>Low</th>\n",
              "      <th>Close</th>\n",
              "      <th>Adj Close</th>\n",
              "      <th>Volume</th>\n",
              "    </tr>\n",
              "  </thead>\n",
              "  <tbody>\n",
              "    <tr>\n",
              "      <th>0</th>\n",
              "      <td>2015-07-01</td>\n",
              "      <td>494.500000</td>\n",
              "      <td>502.500000</td>\n",
              "      <td>493.000000</td>\n",
              "      <td>498.700012</td>\n",
              "      <td>415.561249</td>\n",
              "      <td>6880852.0</td>\n",
              "    </tr>\n",
              "    <tr>\n",
              "      <th>1</th>\n",
              "      <td>2015-07-02</td>\n",
              "      <td>499.500000</td>\n",
              "      <td>500.700012</td>\n",
              "      <td>492.524994</td>\n",
              "      <td>494.000000</td>\n",
              "      <td>411.644745</td>\n",
              "      <td>4007568.0</td>\n",
              "    </tr>\n",
              "    <tr>\n",
              "      <th>2</th>\n",
              "      <td>2015-07-03</td>\n",
              "      <td>494.000000</td>\n",
              "      <td>496.500000</td>\n",
              "      <td>491.000000</td>\n",
              "      <td>495.149994</td>\n",
              "      <td>412.603058</td>\n",
              "      <td>2695306.0</td>\n",
              "    </tr>\n",
              "    <tr>\n",
              "      <th>3</th>\n",
              "      <td>2015-07-06</td>\n",
              "      <td>492.500000</td>\n",
              "      <td>494.000000</td>\n",
              "      <td>487.500000</td>\n",
              "      <td>491.649994</td>\n",
              "      <td>409.686493</td>\n",
              "      <td>4305602.0</td>\n",
              "    </tr>\n",
              "    <tr>\n",
              "      <th>4</th>\n",
              "      <td>2015-07-07</td>\n",
              "      <td>492.500000</td>\n",
              "      <td>495.000000</td>\n",
              "      <td>489.500000</td>\n",
              "      <td>490.250000</td>\n",
              "      <td>408.519897</td>\n",
              "      <td>3497418.0</td>\n",
              "    </tr>\n",
              "    <tr>\n",
              "      <th>5</th>\n",
              "      <td>2015-07-08</td>\n",
              "      <td>489.500000</td>\n",
              "      <td>489.500000</td>\n",
              "      <td>477.399994</td>\n",
              "      <td>478.750000</td>\n",
              "      <td>398.937103</td>\n",
              "      <td>7024178.0</td>\n",
              "    </tr>\n",
              "    <tr>\n",
              "      <th>6</th>\n",
              "      <td>2015-07-09</td>\n",
              "      <td>478.750000</td>\n",
              "      <td>483.000000</td>\n",
              "      <td>467.024994</td>\n",
              "      <td>469.000000</td>\n",
              "      <td>390.812531</td>\n",
              "      <td>8587772.0</td>\n",
              "    </tr>\n",
              "    <tr>\n",
              "      <th>7</th>\n",
              "      <td>2015-07-10</td>\n",
              "      <td>474.049988</td>\n",
              "      <td>476.049988</td>\n",
              "      <td>466.325012</td>\n",
              "      <td>468.750000</td>\n",
              "      <td>390.604187</td>\n",
              "      <td>7411522.0</td>\n",
              "    </tr>\n",
              "    <tr>\n",
              "      <th>8</th>\n",
              "      <td>2015-07-13</td>\n",
              "      <td>470.500000</td>\n",
              "      <td>477.500000</td>\n",
              "      <td>467.024994</td>\n",
              "      <td>475.075012</td>\n",
              "      <td>395.874756</td>\n",
              "      <td>6531768.0</td>\n",
              "    </tr>\n",
              "    <tr>\n",
              "      <th>9</th>\n",
              "      <td>2015-07-14</td>\n",
              "      <td>477.500000</td>\n",
              "      <td>486.750000</td>\n",
              "      <td>472.750000</td>\n",
              "      <td>485.625000</td>\n",
              "      <td>404.665955</td>\n",
              "      <td>5367074.0</td>\n",
              "    </tr>\n",
              "  </tbody>\n",
              "</table>\n",
              "</div>"
            ],
            "text/plain": [
              "         Date        Open        High  ...       Close   Adj Close     Volume\n",
              "0  2015-07-01  494.500000  502.500000  ...  498.700012  415.561249  6880852.0\n",
              "1  2015-07-02  499.500000  500.700012  ...  494.000000  411.644745  4007568.0\n",
              "2  2015-07-03  494.000000  496.500000  ...  495.149994  412.603058  2695306.0\n",
              "3  2015-07-06  492.500000  494.000000  ...  491.649994  409.686493  4305602.0\n",
              "4  2015-07-07  492.500000  495.000000  ...  490.250000  408.519897  3497418.0\n",
              "5  2015-07-08  489.500000  489.500000  ...  478.750000  398.937103  7024178.0\n",
              "6  2015-07-09  478.750000  483.000000  ...  469.000000  390.812531  8587772.0\n",
              "7  2015-07-10  474.049988  476.049988  ...  468.750000  390.604187  7411522.0\n",
              "8  2015-07-13  470.500000  477.500000  ...  475.075012  395.874756  6531768.0\n",
              "9  2015-07-14  477.500000  486.750000  ...  485.625000  404.665955  5367074.0\n",
              "\n",
              "[10 rows x 7 columns]"
            ]
          },
          "metadata": {
            "tags": []
          },
          "execution_count": 5
        }
      ]
    },
    {
      "cell_type": "code",
      "metadata": {
        "id": "Nn4iEga77RGR",
        "colab_type": "code",
        "colab": {
          "base_uri": "https://localhost:8080/",
          "height": 252
        },
        "outputId": "424bab60-0269-4b40-a8b5-3a2e912c3377"
      },
      "source": [
        "INFOSYS.info()"
      ],
      "execution_count": 6,
      "outputs": [
        {
          "output_type": "stream",
          "text": [
            "<class 'pandas.core.frame.DataFrame'>\n",
            "RangeIndex: 1228 entries, 0 to 1227\n",
            "Data columns (total 7 columns):\n",
            " #   Column     Non-Null Count  Dtype  \n",
            "---  ------     --------------  -----  \n",
            " 0   Date       1228 non-null   object \n",
            " 1   Open       1227 non-null   float64\n",
            " 2   High       1227 non-null   float64\n",
            " 3   Low        1227 non-null   float64\n",
            " 4   Close      1227 non-null   float64\n",
            " 5   Adj Close  1227 non-null   float64\n",
            " 6   Volume     1227 non-null   float64\n",
            "dtypes: float64(6), object(1)\n",
            "memory usage: 67.3+ KB\n"
          ],
          "name": "stdout"
        }
      ]
    },
    {
      "cell_type": "code",
      "metadata": {
        "id": "lcz8GT-h7RJg",
        "colab_type": "code",
        "colab": {
          "base_uri": "https://localhost:8080/",
          "height": 402
        },
        "outputId": "4de8f95e-7516-475e-f3cf-fc0b3fa7fd25"
      },
      "source": [
        " INFOSYS_NEW=INFOSYS.dropna(axis=0)\n",
        " INFOSYS_NEW"
      ],
      "execution_count": 9,
      "outputs": [
        {
          "output_type": "execute_result",
          "data": {
            "text/html": [
              "<div>\n",
              "<style scoped>\n",
              "    .dataframe tbody tr th:only-of-type {\n",
              "        vertical-align: middle;\n",
              "    }\n",
              "\n",
              "    .dataframe tbody tr th {\n",
              "        vertical-align: top;\n",
              "    }\n",
              "\n",
              "    .dataframe thead th {\n",
              "        text-align: right;\n",
              "    }\n",
              "</style>\n",
              "<table border=\"1\" class=\"dataframe\">\n",
              "  <thead>\n",
              "    <tr style=\"text-align: right;\">\n",
              "      <th></th>\n",
              "      <th>Date</th>\n",
              "      <th>Open</th>\n",
              "      <th>High</th>\n",
              "      <th>Low</th>\n",
              "      <th>Close</th>\n",
              "      <th>Adj Close</th>\n",
              "      <th>Volume</th>\n",
              "    </tr>\n",
              "  </thead>\n",
              "  <tbody>\n",
              "    <tr>\n",
              "      <th>0</th>\n",
              "      <td>2015-07-01</td>\n",
              "      <td>494.500000</td>\n",
              "      <td>502.500000</td>\n",
              "      <td>493.000000</td>\n",
              "      <td>498.700012</td>\n",
              "      <td>415.561249</td>\n",
              "      <td>6880852.0</td>\n",
              "    </tr>\n",
              "    <tr>\n",
              "      <th>1</th>\n",
              "      <td>2015-07-02</td>\n",
              "      <td>499.500000</td>\n",
              "      <td>500.700012</td>\n",
              "      <td>492.524994</td>\n",
              "      <td>494.000000</td>\n",
              "      <td>411.644745</td>\n",
              "      <td>4007568.0</td>\n",
              "    </tr>\n",
              "    <tr>\n",
              "      <th>2</th>\n",
              "      <td>2015-07-03</td>\n",
              "      <td>494.000000</td>\n",
              "      <td>496.500000</td>\n",
              "      <td>491.000000</td>\n",
              "      <td>495.149994</td>\n",
              "      <td>412.603058</td>\n",
              "      <td>2695306.0</td>\n",
              "    </tr>\n",
              "    <tr>\n",
              "      <th>3</th>\n",
              "      <td>2015-07-06</td>\n",
              "      <td>492.500000</td>\n",
              "      <td>494.000000</td>\n",
              "      <td>487.500000</td>\n",
              "      <td>491.649994</td>\n",
              "      <td>409.686493</td>\n",
              "      <td>4305602.0</td>\n",
              "    </tr>\n",
              "    <tr>\n",
              "      <th>4</th>\n",
              "      <td>2015-07-07</td>\n",
              "      <td>492.500000</td>\n",
              "      <td>495.000000</td>\n",
              "      <td>489.500000</td>\n",
              "      <td>490.250000</td>\n",
              "      <td>408.519897</td>\n",
              "      <td>3497418.0</td>\n",
              "    </tr>\n",
              "    <tr>\n",
              "      <th>...</th>\n",
              "      <td>...</td>\n",
              "      <td>...</td>\n",
              "      <td>...</td>\n",
              "      <td>...</td>\n",
              "      <td>...</td>\n",
              "      <td>...</td>\n",
              "      <td>...</td>\n",
              "    </tr>\n",
              "    <tr>\n",
              "      <th>1223</th>\n",
              "      <td>2020-06-23</td>\n",
              "      <td>695.700012</td>\n",
              "      <td>724.500000</td>\n",
              "      <td>692.099976</td>\n",
              "      <td>720.650024</td>\n",
              "      <td>720.650024</td>\n",
              "      <td>12157390.0</td>\n",
              "    </tr>\n",
              "    <tr>\n",
              "      <th>1224</th>\n",
              "      <td>2020-06-24</td>\n",
              "      <td>716.900024</td>\n",
              "      <td>726.799988</td>\n",
              "      <td>709.400024</td>\n",
              "      <td>714.150024</td>\n",
              "      <td>714.150024</td>\n",
              "      <td>10220838.0</td>\n",
              "    </tr>\n",
              "    <tr>\n",
              "      <th>1225</th>\n",
              "      <td>2020-06-25</td>\n",
              "      <td>704.849976</td>\n",
              "      <td>705.599976</td>\n",
              "      <td>693.500000</td>\n",
              "      <td>700.500000</td>\n",
              "      <td>700.500000</td>\n",
              "      <td>14945284.0</td>\n",
              "    </tr>\n",
              "    <tr>\n",
              "      <th>1226</th>\n",
              "      <td>2020-06-26</td>\n",
              "      <td>710.200012</td>\n",
              "      <td>751.599976</td>\n",
              "      <td>710.000000</td>\n",
              "      <td>748.200012</td>\n",
              "      <td>748.200012</td>\n",
              "      <td>26030458.0</td>\n",
              "    </tr>\n",
              "    <tr>\n",
              "      <th>1227</th>\n",
              "      <td>2020-06-29</td>\n",
              "      <td>735.400024</td>\n",
              "      <td>744.700012</td>\n",
              "      <td>730.099976</td>\n",
              "      <td>731.750000</td>\n",
              "      <td>731.750000</td>\n",
              "      <td>8954428.0</td>\n",
              "    </tr>\n",
              "  </tbody>\n",
              "</table>\n",
              "<p>1227 rows × 7 columns</p>\n",
              "</div>"
            ],
            "text/plain": [
              "            Date        Open        High  ...       Close   Adj Close      Volume\n",
              "0     2015-07-01  494.500000  502.500000  ...  498.700012  415.561249   6880852.0\n",
              "1     2015-07-02  499.500000  500.700012  ...  494.000000  411.644745   4007568.0\n",
              "2     2015-07-03  494.000000  496.500000  ...  495.149994  412.603058   2695306.0\n",
              "3     2015-07-06  492.500000  494.000000  ...  491.649994  409.686493   4305602.0\n",
              "4     2015-07-07  492.500000  495.000000  ...  490.250000  408.519897   3497418.0\n",
              "...          ...         ...         ...  ...         ...         ...         ...\n",
              "1223  2020-06-23  695.700012  724.500000  ...  720.650024  720.650024  12157390.0\n",
              "1224  2020-06-24  716.900024  726.799988  ...  714.150024  714.150024  10220838.0\n",
              "1225  2020-06-25  704.849976  705.599976  ...  700.500000  700.500000  14945284.0\n",
              "1226  2020-06-26  710.200012  751.599976  ...  748.200012  748.200012  26030458.0\n",
              "1227  2020-06-29  735.400024  744.700012  ...  731.750000  731.750000   8954428.0\n",
              "\n",
              "[1227 rows x 7 columns]"
            ]
          },
          "metadata": {
            "tags": []
          },
          "execution_count": 9
        }
      ]
    },
    {
      "cell_type": "code",
      "metadata": {
        "id": "FsssqV3l7RMZ",
        "colab_type": "code",
        "colab": {
          "base_uri": "https://localhost:8080/",
          "height": 252
        },
        "outputId": "ec075b6a-d3cd-4622-9e02-55923e9343a0"
      },
      "source": [
        "INFOSYS_NEW.info()"
      ],
      "execution_count": 11,
      "outputs": [
        {
          "output_type": "stream",
          "text": [
            "<class 'pandas.core.frame.DataFrame'>\n",
            "Int64Index: 1227 entries, 0 to 1227\n",
            "Data columns (total 7 columns):\n",
            " #   Column     Non-Null Count  Dtype  \n",
            "---  ------     --------------  -----  \n",
            " 0   Date       1227 non-null   object \n",
            " 1   Open       1227 non-null   float64\n",
            " 2   High       1227 non-null   float64\n",
            " 3   Low        1227 non-null   float64\n",
            " 4   Close      1227 non-null   float64\n",
            " 5   Adj Close  1227 non-null   float64\n",
            " 6   Volume     1227 non-null   float64\n",
            "dtypes: float64(6), object(1)\n",
            "memory usage: 76.7+ KB\n"
          ],
          "name": "stdout"
        }
      ]
    },
    {
      "cell_type": "code",
      "metadata": {
        "id": "-rCDrGYN8mfb",
        "colab_type": "code",
        "colab": {}
      },
      "source": [
        "INFOSYS_NEW['Close']=pd.to_numeric(INFOSYS_NEW.Close,errors='coerce')\n",
        "INFOSYS_NEW = INFOSYS_NEW.dropna()\n",
        "INFOSYS_TRAIN = INFOSYS_NEW.iloc[:,4:5].values"
      ],
      "execution_count": 52,
      "outputs": []
    },
    {
      "cell_type": "code",
      "metadata": {
        "id": "DZjynYeX8mj-",
        "colab_type": "code",
        "colab": {
          "base_uri": "https://localhost:8080/",
          "height": 252
        },
        "outputId": "effeb358-df0a-4e0d-85b6-3a2cac1cc88b"
      },
      "source": [
        "INFOSYS_NEW.info()"
      ],
      "execution_count": 37,
      "outputs": [
        {
          "output_type": "stream",
          "text": [
            "<class 'pandas.core.frame.DataFrame'>\n",
            "Int64Index: 1227 entries, 0 to 1227\n",
            "Data columns (total 7 columns):\n",
            " #   Column     Non-Null Count  Dtype  \n",
            "---  ------     --------------  -----  \n",
            " 0   Date       1227 non-null   object \n",
            " 1   Open       1227 non-null   float64\n",
            " 2   High       1227 non-null   float64\n",
            " 3   Low        1227 non-null   float64\n",
            " 4   Close      1227 non-null   float64\n",
            " 5   Adj Close  1227 non-null   float64\n",
            " 6   Volume     1227 non-null   float64\n",
            "dtypes: float64(6), object(1)\n",
            "memory usage: 76.7+ KB\n"
          ],
          "name": "stdout"
        }
      ]
    },
    {
      "cell_type": "code",
      "metadata": {
        "id": "1BKCAbDZ8mpZ",
        "colab_type": "code",
        "colab": {
          "base_uri": "https://localhost:8080/",
          "height": 34
        },
        "outputId": "ab9cb7ea-3f2a-47a4-df2d-66bac17e91a2"
      },
      "source": [
        "sc = MinMaxScaler(feature_range=(0,1))\n",
        "INFOSYS_TRAIN = sc.fit_transform(INFOSYS_TRAIN)\n",
        "INFOSYS_TRAIN.shape"
      ],
      "execution_count": 53,
      "outputs": [
        {
          "output_type": "execute_result",
          "data": {
            "text/plain": [
              "(1227, 1)"
            ]
          },
          "metadata": {
            "tags": []
          },
          "execution_count": 53
        }
      ]
    },
    {
      "cell_type": "code",
      "metadata": {
        "id": "fmGB6cne8mtE",
        "colab_type": "code",
        "colab": {}
      },
      "source": [
        "x_train = []\n",
        "y_train = []\n",
        "\n",
        "for i in range (60,1227):\n",
        "  x_train.append(INFOSYS_TRAIN[i-60:i,0])\n",
        "  y_train.append(INFOSYS_TRAIN[i,0])\n",
        "\n",
        "x_train, y_train = np.array(x_train), np.array(y_train)"
      ],
      "execution_count": 54,
      "outputs": []
    },
    {
      "cell_type": "code",
      "metadata": {
        "id": "Bt_Rugc08mnw",
        "colab_type": "code",
        "colab": {
          "base_uri": "https://localhost:8080/",
          "height": 34
        },
        "outputId": "c8eb92ae-b97f-404e-805c-afc442828ca5"
      },
      "source": [
        "x_train = np.reshape(x_train,(x_train.shape[0],x_train.shape[1],1))\n",
        "x_train.shape"
      ],
      "execution_count": 55,
      "outputs": [
        {
          "output_type": "execute_result",
          "data": {
            "text/plain": [
              "(1167, 60, 1)"
            ]
          },
          "metadata": {
            "tags": []
          },
          "execution_count": 55
        }
      ]
    },
    {
      "cell_type": "code",
      "metadata": {
        "id": "THpXUqtY8mip",
        "colab_type": "code",
        "colab": {}
      },
      "source": [
        "model = Sequential()\n",
        "\n",
        "model.add(LSTM(units=100, return_sequences= True, input_shape=(x_train.shape[1],1)))\n",
        "model.add(Dropout(0.2))\n",
        "\n",
        "model.add(LSTM(units=100, return_sequences= True))\n",
        "model.add(Dropout(0.2))\n",
        "\n",
        "\n",
        "model.add(LSTM(units=100, return_sequences= True))\n",
        "model.add(Dropout(0.2))\n",
        "\n",
        "\n",
        "model.add(LSTM(units=100, return_sequences= False))\n",
        "model.add(Dropout(0.2))\n",
        "\n",
        "\n",
        "model.add(Dense(units=1))\n",
        "model.compile(optimizer='adam', loss='mean_squared_error')"
      ],
      "execution_count": 58,
      "outputs": []
    },
    {
      "cell_type": "code",
      "metadata": {
        "id": "RlfBDOer8mdw",
        "colab_type": "code",
        "colab": {
          "base_uri": "https://localhost:8080/",
          "height": 689
        },
        "outputId": "513c2575-d500-4863-b4ef-a21da1fb6381"
      },
      "source": [
        "hist = model.fit(x_train, y_train, epochs=20, batch_size=32, verbose=2)"
      ],
      "execution_count": 60,
      "outputs": [
        {
          "output_type": "stream",
          "text": [
            "Epoch 1/20\n",
            " - 9s - loss: 0.0063\n",
            "Epoch 2/20\n",
            " - 9s - loss: 0.0054\n",
            "Epoch 3/20\n",
            " - 9s - loss: 0.0049\n",
            "Epoch 4/20\n",
            " - 9s - loss: 0.0054\n",
            "Epoch 5/20\n",
            " - 9s - loss: 0.0049\n",
            "Epoch 6/20\n",
            " - 9s - loss: 0.0047\n",
            "Epoch 7/20\n",
            " - 8s - loss: 0.0054\n",
            "Epoch 8/20\n",
            " - 9s - loss: 0.0051\n",
            "Epoch 9/20\n",
            " - 9s - loss: 0.0042\n",
            "Epoch 10/20\n",
            " - 8s - loss: 0.0042\n",
            "Epoch 11/20\n",
            " - 9s - loss: 0.0045\n",
            "Epoch 12/20\n",
            " - 9s - loss: 0.0038\n",
            "Epoch 13/20\n",
            " - 9s - loss: 0.0036\n",
            "Epoch 14/20\n",
            " - 9s - loss: 0.0036\n",
            "Epoch 15/20\n",
            " - 9s - loss: 0.0037\n",
            "Epoch 16/20\n",
            " - 9s - loss: 0.0035\n",
            "Epoch 17/20\n",
            " - 9s - loss: 0.0034\n",
            "Epoch 18/20\n",
            " - 9s - loss: 0.0035\n",
            "Epoch 19/20\n",
            " - 9s - loss: 0.0030\n",
            "Epoch 20/20\n",
            " - 9s - loss: 0.0036\n"
          ],
          "name": "stdout"
        }
      ]
    },
    {
      "cell_type": "code",
      "metadata": {
        "id": "XeYfbRoML55j",
        "colab_type": "code",
        "colab": {
          "base_uri": "https://localhost:8080/",
          "height": 295
        },
        "outputId": "44a4bd02-e0b6-4d8b-ff56-0aefbf58196b"
      },
      "source": [
        "plt.plot(hist.history['loss'])\n",
        "plt.title('Training model loss')\n",
        "plt.ylabel('Loss')\n",
        "plt.xlabel('epoch')\n",
        "plt.legend(['train'],loc='upper left')\n",
        "plt.show()"
      ],
      "execution_count": 61,
      "outputs": [
        {
          "output_type": "display_data",
          "data": {
            "image/png": "[encoded data removed]",
            "text/plain": [
              "<Figure size 432x288 with 1 Axes>"
            ]
          },
          "metadata": {
            "tags": [],
            "needs_background": "light"
          }
        }
      ]
    },
    {
      "cell_type": "code",
      "metadata": {
        "id": "ahGa-Rd3Z_Vf",
        "colab_type": "code",
        "colab": {
          "base_uri": "https://localhost:8080/",
          "height": 34
        },
        "outputId": "5f224f47-9c7d-48b5-ba0c-201a5bd89e98"
      },
      "source": [
        "INFOSYS_NEW.columns"
      ],
      "execution_count": 76,
      "outputs": [
        {
          "output_type": "execute_result",
          "data": {
            "text/plain": [
              "Index(['Date', 'Open', 'High', 'Low', 'Close', 'Adj Close', 'Volume'], dtype='object')"
            ]
          },
          "metadata": {
            "tags": []
          },
          "execution_count": 76
        }
      ]
    },
    {
      "cell_type": "code",
      "metadata": {
        "id": "UOTEDQi_NHfa",
        "colab_type": "code",
        "colab": {
          "base_uri": "https://localhost:8080/",
          "height": 34
        },
        "outputId": "b17eb3b8-51ae-456b-f4ab-586f89f14551"
      },
      "source": [
        "INFOSYS_TEST = pd.read_csv(\"/content/INFY.NS.csv\")\n",
        "INFOSYS_TEST[\"Close\"]=pd.to_numeric(INFOSYS_TEST.Close, errors='coerce')\n",
        "INFOSYS_TEST = INFOSYS_TEST.dropna()\n",
        "INFOSYS_TEST = INFOSYS_TEST.iloc[:,4:5]\n",
        "y_test = INFOSYS_TEST.iloc[60:,0:].values\n",
        "\n",
        "inputClosing = INFOSYS_TEST.iloc[:,0:].values\n",
        "inputClosing_scaled = sc.transform(inputClosing)\n",
        "inputClosing_scaled.shape\n",
        "x_test = []\n",
        "length = len(INFOSYS_TEST)\n",
        "timestep = 60\n",
        "for i in range (timestep, length):\n",
        "  x_test.append(inputClosing_scaled[i-timestep:i,0])\n",
        "x_test = np.array(x_test)\n",
        "x_test = np.reshape(x_test, (x_test.shape[0],x_test.shape[1],1))\n",
        "x_test.shape\n",
        "\n",
        "\n"
      ],
      "execution_count": 92,
      "outputs": [
        {
          "output_type": "execute_result",
          "data": {
            "text/plain": [
              "(1167, 60, 1)"
            ]
          },
          "metadata": {
            "tags": []
          },
          "execution_count": 92
        }
      ]
    },
    {
      "cell_type": "code",
      "metadata": {
        "id": "YNFmNoncNHzM",
        "colab_type": "code",
        "colab": {
          "base_uri": "https://localhost:8080/",
          "height": 134
        },
        "outputId": "61829c26-f793-4439-edc5-562a13257a7f"
      },
      "source": [
        "y_predict = model.predict(x_test)\n",
        "y_predict"
      ],
      "execution_count": 88,
      "outputs": [
        {
          "output_type": "execute_result",
          "data": {
            "text/plain": [
              "array([[0.29796383],\n",
              "       [0.30271685],\n",
              "       [0.30667093],\n",
              "       ...,\n",
              "       [0.6671327 ],\n",
              "       [0.6693521 ],\n",
              "       [0.67803097]], dtype=float32)"
            ]
          },
          "metadata": {
            "tags": []
          },
          "execution_count": 88
        }
      ]
    },
    {
      "cell_type": "code",
      "metadata": {
        "id": "-o0gjVRoNH8M",
        "colab_type": "code",
        "colab": {}
      },
      "source": [
        "predicted_price = sc.inverse_transform(y_predict)"
      ],
      "execution_count": 89,
      "outputs": []
    },
    {
      "cell_type": "code",
      "metadata": {
        "id": "HNzEChcUNIAO",
        "colab_type": "code",
        "colab": {
          "base_uri": "https://localhost:8080/",
          "height": 295
        },
        "outputId": "619386c9-c74d-4437-8f8e-19bf4a3e6c0f"
      },
      "source": [
        "plt.plot(y_test, color='red', label='ACTUAL STOCK PRICE')\n",
        "plt.plot(predicted_price, color='cyan', label='PREDICTED STOCK PRICE')\n",
        "plt.title('INFOSYS STOCK PRICE PREDICTION')\n",
        "plt.xlabel('TIME')\n",
        "plt.ylabel('STOCK PRICE')\n",
        "plt.legend()\n",
        "plt.show()"
      ],
      "execution_count": 90,
      "outputs": [
        {
          "output_type": "display_data",
          "data": {
            "image/png": "[encoded data removed]",
            "text/plain": [
              "<Figure size 432x288 with 1 Axes>"
            ]
          },
          "metadata": {
            "tags": [],
            "needs_background": "light"
          }
        }
      ]
    }
  ]
}